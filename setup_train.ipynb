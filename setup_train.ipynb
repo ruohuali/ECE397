{
 "cells": [
  {
   "cell_type": "code",
   "execution_count": 1,
   "metadata": {},
   "outputs": [],
   "source": [
    "import numpy as np\n",
    "import matplotlib.pyplot as plt\n",
    "import os\n",
    "from IPython.display import Audio\n",
    "from scipy.io import wavfile\n",
    "from scipy import signal\n",
    "import matplotlib.pyplot as plt"
   ]
  },
  {
   "cell_type": "code",
   "execution_count": null,
   "metadata": {},
   "outputs": [],
   "source": [
    "def resample(signal):\n",
    "    X = np.fft.fft(signal, fs)\n",
    "    X = np.fft.fftshift(X)  #fft.fft gives a dtft 0-2pi,zero-center it\n",
    "\n",
    "    #upsampling first\n",
    "    #upsample by \n",
    "    y = upsample(3,x)\n",
    "    Y = np.fft.fft(y)\n",
    "    Y = np.fft.fftshift(Y)\n",
    "\n",
    "    '''\n",
    "    w = np.linspace(-np.pi,np.pi,len(X))\n",
    "    w1 = np.linspace(-np.pi,np.pi,len(Y))\n",
    "    plt.figure(figsize=(13,5))\n",
    "    plt.subplot(1,2,1)\n",
    "    plt.plot(w,X)\n",
    "    plt.subplot(1,2,2)\n",
    "    plt.plot(w1,Y)\n",
    "    '''\n",
    "\n",
    "    #post-interpolation filtering\n",
    "    #create filter\n",
    "    lpf = lowpass(3)\n",
    "    LPF = np.fft.fft(lpf,1000)\n",
    "    LPF = np.fft.fftshift(LPF)\n",
    "\n",
    "    #convolution\n",
    "    y = np.convolve(lpf,y)\n",
    "    Y = np.fft.fft(y)\n",
    "    Y = np.fft.fftshift(Y)\n",
    "\n",
    "    '''\n",
    "    w = np.linspace(-np.pi,np.pi,len(Y))\n",
    "    plt.figure()\n",
    "    plt.plot(w,Y)\n",
    "    '''\n",
    "\n",
    "    #downsample by 5\n",
    "    y = downsample(3,y)\n",
    "    Y = np.fft.fft(y)\n",
    "    Y = np.fft.fftshift(Y)\n",
    "\n",
    "    w1 = np.linspace(-np.pi,np.pi,len(Y))\n",
    "    plt.figure()\n",
    "    plt.title('up first')\n",
    "    plt.plot(w1,abs(Y))\n"
   ]
  },
  {
   "cell_type": "code",
   "execution_count": 3,
   "metadata": {},
   "outputs": [
    {
     "name": "stdout",
     "output_type": "stream",
     "text": [
      "workspace: /mnt/c/Users/24488/Desktop/Study/ECE397Project/ece397_project\n",
      "loading in: sound1.wav\n",
      "44100\n",
      "loading in: sound2.wav\n",
      "44100\n",
      "loading in: sound3.wav\n",
      "44100\n",
      "loading completed\n",
      "start FFT\n",
      "FFT completed\n"
     ]
    },
    {
     "data": {
      "image/png": "[encoded data removed]",
      "text/plain": [
       "<Figure size 432x288 with 1 Axes>"
      ]
     },
     "metadata": {},
     "output_type": "display_data"
    },
    {
     "data": {
      "image/png": "[encoded data removed]",
      "text/plain": [
       "<Figure size 432x288 with 1 Axes>"
      ]
     },
     "metadata": {},
     "output_type": "display_data"
    },
    {
     "data": {
      "image/png": "[encoded data removed]",
      "text/plain": [
       "<Figure size 432x288 with 1 Axes>"
      ]
     },
     "metadata": {},
     "output_type": "display_data"
    }
   ],
   "source": [
    "#get the current workspace's abs path\n",
    "path = os.getcwd()\n",
    "print(\"workspace: \" + path)\n",
    "#get the file names of instrument sounds\n",
    "snds_path = os.listdir(path + '/instru_snds')\n",
    "\n",
    "snds = []\n",
    "all_fs = []\n",
    "for file in snds_path:\n",
    "    print(\"loading in: \" + file)\n",
    "    print(fs)\n",
    "    audio = np.array([])\n",
    "    fs,audio = wavfile.read('instru_snds/' + file) #load the data\n",
    "    snds.append(audio)\n",
    "    all_fs.append(fs)\n",
    "\n",
    "print(\"loading completed\")\n",
    "snds = np.asarray(snds)\n",
    "all_fs = np.asarray(all_fs)\n",
    "\n",
    "\n",
    "#FFT\n",
    "print(\"start FFT\")\n",
    "FFTs = []\n",
    "\n",
    "for audio in snds:\n",
    "    AUD = np.fft.rfft(audio, 100000)\n",
    "    AUD = np.absolute(AUD)\n",
    "    FFTs.append(AUD)\n",
    "\n",
    "for AUD in FFTs:\n",
    "    plt.figure()\n",
    "    plt.plot(AUD,\"g\")\n",
    "    \n",
    "print(\"FFT completed\")\n",
    "FFTs = np.asarray(FFTs)\n",
    "\n"
   ]
  }
 ],
 "metadata": {
  "kernelspec": {
   "display_name": "Python 3",
   "language": "python",
   "name": "python3"
  },
  "language_info": {
   "codemirror_mode": {
    "name": "ipython",
    "version": 3
   },
   "file_extension": ".py",
   "mimetype": "text/x-python",
   "name": "python",
   "nbconvert_exporter": "python",
   "pygments_lexer": "ipython3",
   "version": "3.6.8"
  }
 },
 "nbformat": 4,
 "nbformat_minor": 2
}
